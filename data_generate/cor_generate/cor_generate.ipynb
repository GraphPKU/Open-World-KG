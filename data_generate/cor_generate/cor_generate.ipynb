{
 "cells": [
  {
   "cell_type": "markdown",
   "id": "8f4e2a2b-2cd3-4954-817f-d512e1c03a28",
   "metadata": {},
   "source": [
    "First copy the appropriate checkpoint to this dir, and rename it as `checkpoint`. Then alpha =0.85, 0.63, 0.47, 0.35 for 95/85/75/65. "
   ]
  },
  {
   "cell_type": "code",
   "execution_count": 6,
   "id": "7445a3e2-5e53-4e00-a3a8-11342ac353b8",
   "metadata": {},
   "outputs": [
    {
     "name": "stdout",
     "output_type": "stream",
     "text": [
      "/home/haotong/KG/data/family_gene/cor_generate\n",
      "/home/haotong/KG/data/family_gene/cor_generate\n",
      "/home/haotong/KG/data/family_gene/cor_generate\n",
      "/home/haotong/KG/data/family_gene/cor_generate\n"
     ]
    }
   ],
   "source": [
    "! CUDA_VISIBLE_DEVICES=0 python run.py --cuda --do_test -init checkpoint/65 --alpha 0.35 --rho 1 --savefile output/65/test-sparse-hard-answers.pkl\n",
    "! CUDA_VISIBLE_DEVICES=0 python run.py --cuda --do_test -init checkpoint/75 --alpha 0.47 --rho 1 --savefile output/75/test-sparse-hard-answers.pkl\n",
    "! CUDA_VISIBLE_DEVICES=0 python run.py --cuda --do_test -init checkpoint/85 --alpha 0.63 --rho 1 --savefile output/85/test-sparse-hard-answers.pkl\n",
    "! CUDA_VISIBLE_DEVICES=0 python run.py --cuda --do_test -init checkpoint/95 --alpha 0.85 --rho 1 --savefile output/95/test-sparse-hard-answers.pkl"
   ]
  },
  {
   "cell_type": "markdown",
   "id": "fc0c02a5-1f31-4fb4-a41c-1148a9e052f5",
   "metadata": {},
   "source": [
    "Then just replace it into the corresponding dataset directories and keep other files the same."
   ]
  },
  {
   "cell_type": "markdown",
   "id": "2696004c",
   "metadata": {},
   "source": [
    "## Some test"
   ]
  },
  {
   "cell_type": "code",
   "execution_count": 1,
   "id": "4bb0e8b6-bbe2-4d1c-b140-09c11b0902fa",
   "metadata": {},
   "outputs": [
    {
     "name": "stdout",
     "output_type": "stream",
     "text": [
      "0.35456699131350355\n"
     ]
    }
   ],
   "source": [
    "import pickle\n",
    "with open('output/65/test-sparse-hard-answers.pkl_q2b', 'rb') as f:\n",
    "    test_answers = pickle.load(f)\n",
    "with open('../q2b/65/test-full-hard-answers.pkl', 'rb') as f:\n",
    "    full_test_answers = pickle.load(f)\n",
    "assert test_answers.keys() == full_test_answers.keys()\n",
    "for i in test_answers:\n",
    "    assert test_answers[i].intersection(full_test_answers[i]) == test_answers[i]\n",
    "ct = 0\n",
    "cf = 0\n",
    "for i in test_answers:\n",
    "    assert test_answers[i].intersection(full_test_answers[i]) == test_answers[i], i\n",
    "    ct += len(test_answers[i])\n",
    "    cf += len(full_test_answers[i])\n",
    "print(ct / cf)"
   ]
  },
  {
   "cell_type": "code",
   "execution_count": 7,
   "id": "4253fb75-1e73-4d3d-a03b-e0f363b4258b",
   "metadata": {},
   "outputs": [
    {
     "name": "stderr",
     "output_type": "stream",
     "text": [
      "Error in atexit._run_exitfuncs:\n",
      "Traceback (most recent call last):\n",
      "  File \"/home/haotong/.conda/envs/Env0/lib/python3.9/site-packages/IPython/core/history.py\", line 604, in end_session\n",
      "    self.db.execute(\"\"\"UPDATE sessions SET end=?, num_cmds=? WHERE\n",
      "sqlite3.OperationalError: database or disk is full\n"
     ]
    }
   ],
   "source": [
    "import pickle\n",
    "with open('output/65/test-sparse-hard-answers.pkl_q2b', 'rb') as f:\n",
    "    test_answers = pickle.load(f)\n",
    "with open('../q2b/65/test-full-hard-answers.pkl', 'rb') as f:\n",
    "    full_test_answers = pickle.load(f)\n",
    "assert test_answers.keys() == full_test_answers.keys()\n",
    "for i in test_answers:\n",
    "    assert test_answers[i]"
   ]
  },
  {
   "cell_type": "code",
   "execution_count": 89,
   "id": "cc326dbd-67f3-4229-86ea-a1fd16c5a961",
   "metadata": {},
   "outputs": [
    {
     "name": "stdout",
     "output_type": "stream",
     "text": [
      "0.47180212014134276\n"
     ]
    }
   ],
   "source": [
    "import pickle\n",
    "with open('test-sparse-hard-answers.pkl_transe', 'rb') as f:\n",
    "    test_answers = pickle.load(f)\n",
    "with open('../transe/75/test-full-hard-answers.pkl', 'rb') as f:\n",
    "    full_test_answers = pickle.load(f)\n",
    "assert test_answers.keys() == full_test_answers.keys()\n",
    "for i in test_answers:\n",
    "    assert test_answers[i].intersection(full_test_answers[i]) == test_answers[i]\n",
    "ct = 0\n",
    "cf = 0\n",
    "for i in test_answers:\n",
    "    assert test_answers[i].intersection(full_test_answers[i]) == test_answers[i], i\n",
    "    ct += len(test_answers[i])\n",
    "    cf += len(full_test_answers[i])\n",
    "print(ct / cf)"
   ]
  }
 ],
 "metadata": {
  "kernelspec": {
   "display_name": "Python 3.10.5 64-bit",
   "language": "python",
   "name": "python3"
  },
  "language_info": {
   "codemirror_mode": {
    "name": "ipython",
    "version": 3
   },
   "file_extension": ".py",
   "mimetype": "text/x-python",
   "name": "python",
   "nbconvert_exporter": "python",
   "pygments_lexer": "ipython3",
   "version": "3.10.5"
  },
  "vscode": {
   "interpreter": {
    "hash": "1f44a655a535b82e6f848d35725387f40f4f8ba11b5e0046e68a964cc357ecc0"
   }
  }
 },
 "nbformat": 4,
 "nbformat_minor": 5
}
