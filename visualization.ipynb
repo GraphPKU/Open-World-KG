{
 "cells": [
  {
   "cell_type": "code",
   "execution_count": null,
   "id": "bce7818a-02e2-4019-8588-424adadd7971",
   "metadata": {},
   "outputs": [],
   "source": [
    "from tensorboard.backend.event_processing import event_accumulator\n",
    "import matplotlib.pyplot as plt\n",
    "import os\n",
    "import numpy as np"
   ]
  },
  {
   "cell_type": "markdown",
   "id": "bbf4ae4d-922e-4214-b3b0-17d32dbf5c8c",
   "metadata": {},
   "source": [
    "`metrics` should be included in `MRR`, `log`, `sqrt`, `P1_4`, `P1_3`, `P2_3`, `P3_4`, `HITS1`, `HITS3`, `HITS10`, where `PN_M` means $r^{N/M}$.\n",
    "\n",
    "`prefix` should be `logs` if independent or `logs_cor` if correlated.\n",
    "\n",
    "The generated figure is saved in dir `.\\fig`."
   ]
  },
  {
   "cell_type": "code",
   "execution_count": null,
   "id": "0a4580ce-3594-4bb7-b8ed-0cc2c6e24607",
   "metadata": {},
   "outputs": [],
   "source": [
    "log_data = dict()\n",
    "log_index = dict()\n",
    "prefix = 'logs'\n",
    "metrics = 'MRR'\n",
    "sparse_list = [int(x) for x in filter(str.isdigit, os.listdir(prefix))]\n",
    "for sparse in sparse_list:\n",
    "    log_data[sparse] = dict()\n",
    "    log_index[sparse] = dict()\n",
    "    index = 0\n",
    "    path = os.path.join(prefix, str(sparse))\n",
    "    for current_path, dirlist, filelist in os.walk(path):\n",
    "        dirlist = list(filter(lambda x: x[0]!='.', dirlist))\n",
    "        if dirlist or not filelist:\n",
    "            continue\n",
    "        elif current_path.split('/')[-1][0] == '.':\n",
    "            # ignore all hidden file\n",
    "            continue\n",
    "        else:\n",
    "            log_index[sparse][current_path] = index\n",
    "            event_file_list = filter(lambda x: 'events.out.tfevents' in x, os.listdir(current_path))\n",
    "            ea_list = []\n",
    "            for f in event_file_list:\n",
    "                ea=event_accumulator.EventAccumulator(os.path.join(current_path, f))\n",
    "                ea.Reload()\n",
    "                ea_list.append(ea)\n",
    "        log_data[sparse][index] = dict()\n",
    "        full = []\n",
    "        step = []\n",
    "        sparsel = []\n",
    "        for ea in ea_list:\n",
    "            if not ea.scalars.Keys():\n",
    "                continue\n",
    "            length = min(len(ea.scalars.Items('Test_1p_{}'.format(metrics))), len(ea.scalars.Items('Test_1p_{}'.format(metrics))), len(ea.scalars.Items('Test_sparse_1p_{}'.format(metrics))))\n",
    "            full += [x.value for x in ea.scalars.Items('Test_1p_{}'.format(metrics))][0:length]\n",
    "            step += [x.step for x in ea.scalars.Items('Test_1p_{}'.format(metrics))][0:length]\n",
    "            sparsel += [x.value for x in ea.scalars.Items('Test_sparse_1p_{}'.format(metrics))][0:length]\n",
    "        log_data[sparse][index]['full'] = full\n",
    "        log_data[sparse][index]['step'] = step\n",
    "        log_data[sparse][index]['sparse'] = sparsel\n",
    "        index += 1\n",
    "print(log_index)"
   ]
  },
  {
   "cell_type": "code",
   "execution_count": null,
   "id": "f5d89113-8109-4876-b468-1cff2b6e967b",
   "metadata": {},
   "outputs": [],
   "source": [
    "colors_list = ['#191970', '#0000CD', '#4169E1', '#6495ED', '#00C0C0',\n",
    "               '#8B008B', '#C000C0', '#C71585', '#9400D3', '#EE82EE',\n",
    "               '#90EE90', '#ADFF2F', '#FFD700', '#C0C000', '#808000',\n",
    "               '#8B0000', '#A0522D', '#F08080',\n",
    "              ]"
   ]
  },
  {
   "cell_type": "code",
   "execution_count": null,
   "id": "a5beda2f-58d9-43dd-a467-4ad91127c3b8",
   "metadata": {
    "tags": []
   },
   "outputs": [],
   "source": [
    "for compare in sparse_list:\n",
    "    max_range = 0\n",
    "    print(compare)\n",
    "    for path in log_index[compare]:\n",
    "        if log_index[compare][path] in [16]:\n",
    "            continue\n",
    "        full = log_data[compare][log_index[compare][path]]['full']\n",
    "        if not full:\n",
    "            continue\n",
    "        # max_range = max(max_range, max(sparse))\n",
    "        sparse = log_data[compare][log_index[compare][path]]['sparse']\n",
    "        max_range = max(max_range, max(sparse))\n",
    "        length = min(len(full), len(sparse))\n",
    "        argsort = np.argsort(np.array(full[:length]))\n",
    "        plt.plot(np.array(full[:length])[argsort], np.array(sparse[:length])[argsort], label=str(log_index[compare][path]), c=colors_list[log_index[compare][path]], linewidth=0.7)\n",
    "    # plt.plot(np.arange(0, max_range+0.1, 0.1), np.arange(0, max_range+0.1, 0.1), label='y=x', c='k')\n",
    "    # plt.plot(np.arange(0, max_range+0.1, 0.1), 0.107*np.ones(np.arange(0, max_range+0.1, 0.1).shape[0]))\n",
    "    plt.xlabel('full'.format(metrics), fontsize=15)\n",
    "    plt.ylabel('sparse'.format(metrics), fontsize=15)\n",
    "    #plt.legend()\n",
    "    plt.title('{}'.format(metrics), fontsize=15)\n",
    "    plt.xticks(fontsize=15)\n",
    "    plt.yticks(fontsize=15)\n",
    "    plt.ylim(0,max_range+0.02)\n",
    "    plt.savefig('fig/{}_sparse{}.pdf'.format(metrics, compare), bbox_inches='tight')\n",
    "    # if need the legend, please change the linewidth = 5\n",
    "    # lleeggeenndd = plt.legend(loc='center left', bbox_to_anchor=(10, 10), framealpha=1, frameon=False, handlelength=0.1)\n",
    "    plt.show()"
   ]
  }
 ],
 "metadata": {
  "kernelspec": {
   "display_name": "Python 3 (ipykernel)",
   "language": "python",
   "name": "python3"
  },
  "language_info": {
   "codemirror_mode": {
    "name": "ipython",
    "version": 3
   },
   "file_extension": ".py",
   "mimetype": "text/x-python",
   "name": "python",
   "nbconvert_exporter": "python",
   "pygments_lexer": "ipython3",
   "version": "3.9.12"
  }
 },
 "nbformat": 4,
 "nbformat_minor": 5
}
