{
 "cells": [
  {
   "cell_type": "markdown",
   "metadata": {},
   "source": [
    "Please download the FB15k237 KG into the `data` directory. You can find the dataset at [here](http://snap.stanford.edu/betae/KG_data.zip)."
   ]
  },
  {
   "cell_type": "code",
   "execution_count": null,
   "metadata": {},
   "outputs": [],
   "source": [
    "import pickle\n",
    "import requests, re\n",
    "import chardet\n",
    "import urllib.request as request\n",
    "\n",
    "id2ent_file = 'data/FB15k-237-betae/id2ent.pkl'\n",
    "id2rel_file = 'data/FB15k-237-betae/id2rel.pkl'\n",
    "\n",
    "with open(id2ent_file, 'rb') as f:\n",
    "    ent = pickle.load(f)\n",
    "with open(id2rel_file, 'rb') as f:\n",
    "    rel = pickle.load(f)\n",
    "    \n",
    "def get_title(url):\n",
    "    # give url, get title.\n",
    "    s = requests.session()\n",
    "    response = request.urlopen(url)\n",
    "    html = response.read()\n",
    "    charset = chardet.detect(html)['encoding']\n",
    "    result = s.get(url)\n",
    "    if (charset == \"GB2312\" or charset is None):\n",
    "        result.encoding = 'gbk'\n",
    "    else:\n",
    "        result.encoding = 'utf-8'\n",
    "    content = result.text\n",
    "    title = re.findall('<title>(.*)</title>', content)[0]\n",
    "    return title\n",
    "\n",
    "def ent2name(ind):\n",
    "    # given ind in FB, get name in wikidata.\n",
    "    entity_name = 'Not Find!'\n",
    "    fbid = ent[ind]\n",
    "    entity_name = fbid\n",
    "    assert fbid[2] == '/'\n",
    "    fbid = '<http://rdf.freebase.com/ns'+fbid[0:2]+'.'+fbid[3:]+'>'\n",
    "    print(fbid)\n",
    "    with open('fb2w.nt','r') as f:\n",
    "        l = f.readline()\n",
    "        while l:\n",
    "            l = f.readline()\n",
    "            if fbid not in l:\n",
    "                continue\n",
    "            wikiurl = str(l.split()[2][1:-1])\n",
    "            wikiurl = wikiurl[0:24]+'wiki'+wikiurl[30:]\n",
    "            try:\n",
    "                entity_name = get_title(wikiurl)[:-11]\n",
    "            except:\n",
    "                pass\n",
    "            return entity_name\n",
    "        return entity_name\n",
    "    \n",
    "def rel2name(ind):\n",
    "    return rel[ind]"
   ]
  },
  {
   "cell_type": "code",
   "execution_count": null,
   "metadata": {},
   "outputs": [],
   "source": [
    "ent2name(1162)"
   ]
  },
  {
   "cell_type": "code",
   "execution_count": null,
   "metadata": {},
   "outputs": [],
   "source": [
    "rel2name(0)"
   ]
  }
 ],
 "metadata": {
  "kernelspec": {
   "display_name": "Python 3.10.5 64-bit",
   "language": "python",
   "name": "python3"
  },
  "language_info": {
   "name": "python",
   "version": "3.10.5"
  },
  "orig_nbformat": 4,
  "vscode": {
   "interpreter": {
    "hash": "1f44a655a535b82e6f848d35725387f40f4f8ba11b5e0046e68a964cc357ecc0"
   }
  }
 },
 "nbformat": 4,
 "nbformat_minor": 2
}
